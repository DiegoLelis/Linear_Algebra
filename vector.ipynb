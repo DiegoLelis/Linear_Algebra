{
 "cells": [
  {
   "cell_type": "markdown",
   "metadata": {
    "collapsed": true
   },
   "source": [
    "<h1>Vectors</h1>\n",
    "___"
   ]
  },
  {
   "cell_type": "markdown",
   "metadata": {},
   "source": [
    "This class represents a vector in a multidimensional space"
   ]
  },
  {
   "cell_type": "code",
   "execution_count": 10,
   "metadata": {},
   "outputs": [],
   "source": [
    "class Vector(object):\n",
    "    def __init__(self, coordinates):\n",
    "        try:\n",
    "            if not coordinates:\n",
    "                raise ValueError\n",
    "            self.coordinates = tuple(coordinates)\n",
    "            self.dimension = len(coordinates)\n",
    "\n",
    "        except ValueError:\n",
    "            raise ValueError('Coordinates must be nonempty')\n",
    "\n",
    "        except TypeError:\n",
    "            raise TypeError('The coordinates must be an interable')\n",
    "\n",
    "    '''Function that returns the default signature of the vector (Coordinates)'''\n",
    "    def __str__(self):\n",
    "        return 'Vector: {}'.format(self.coordinates)\n",
    "\n",
    "    '''Rewrites how the function that compares if another vector is equal'''\n",
    "    def __eq__(self, v):\n",
    "        return self.coordinates == v.coordinates"
   ]
  },
  {
   "cell_type": "markdown",
   "metadata": {},
   "source": [
    "It is important to observe, that a vector is different from a point.\n",
    "___\n",
    "* A point is a representation of position in a plane. Vectors are representations of variation on a coordinates system. \n",
    "* One point is equal to another if they are at the same position. A vector is equal to another vector if they have the same variation. Because vectors don't have a fixed position on a plane.\n",
    "\n",
    "___"
   ]
  },
  {
   "cell_type": "markdown",
   "metadata": {},
   "source": [
    "To create a new vector: "
   ]
  },
  {
   "cell_type": "code",
   "execution_count": 12,
   "metadata": {},
   "outputs": [
    {
     "name": "stdout",
     "output_type": "stream",
     "text": [
      "Vector: (1, 2, 3)\n"
     ]
    }
   ],
   "source": [
    "my_vector = Vector([1,2,3])\n",
    "print(my_vector)"
   ]
  },
  {
   "cell_type": "markdown",
   "metadata": {},
   "source": [
    "To compare vectors:"
   ]
  },
  {
   "cell_type": "code",
   "execution_count": 13,
   "metadata": {},
   "outputs": [
    {
     "name": "stdout",
     "output_type": "stream",
     "text": [
      "True\nFalse\n"
     ]
    }
   ],
   "source": [
    "my_vector2 = Vector([1,2,3])\n",
    "print(my_vector == my_vector2)\n",
    "print(my_vector == Vector([-1,2,3]))"
   ]
  },
  {
   "cell_type": "markdown",
   "metadata": {},
   "source": [
    "<h1> Operations</h1>\n",
    "___"
   ]
  },
  {
   "cell_type": "markdown",
   "metadata": {},
   "source": [
    "<h3> Addition: </h3>"
   ]
  },
  {
   "cell_type": "markdown",
   "metadata": {},
   "source": [
    "$\n",
    "\\vec{a} = \\left[\\begin{array}{cc} \n",
    "1\\\\\n",
    "2\n",
    "\\end{array}\\right]\n",
    "$\n",
    "&nbsp;&nbsp;&nbsp;&nbsp;\n",
    "$\n",
    "\\vec{b} = \\left[\\begin{array}{cc} \n",
    "3\\\\\n",
    "4\n",
    "\\end{array}\\right]\n",
    "$\n",
    "&nbsp;&nbsp;&nbsp;&nbsp;\n",
    "$\n",
    "\\vec{a} + \\vec{b} = \n",
    "\\left[\\begin{array}{cc} \n",
    "1 &+& 3\\\\\n",
    "2 &+& 4\n",
    "\\end{array}\\right]\n",
    "$"
   ]
  },
  {
   "cell_type": "markdown",
   "metadata": {},
   "source": [
    "<h3>Subtraction</h3>"
   ]
  },
  {
   "cell_type": "markdown",
   "metadata": {},
   "source": [
    "$\n",
    "\\vec{a} = \\left[\\begin{array}{cc} \n",
    "3\\\\\n",
    "4\n",
    "\\end{array}\\right]\n",
    "$\n",
    "&nbsp;&nbsp;&nbsp;&nbsp;\n",
    "$\n",
    "\\vec{b} = \\left[\\begin{array}{cc} \n",
    "5\\\\\n",
    "6\n",
    "\\end{array}\\right]\n",
    "$\n",
    "&nbsp;&nbsp;&nbsp;&nbsp;\n",
    "$\n",
    "\\vec{a} - \\vec{b} = \n",
    "\\left[\\begin{array}{cc} \n",
    "3 &-& 5\\\\\n",
    "4 &-& 6\n",
    "\\end{array}\\right]\n",
    "$"
   ]
  },
  {
   "cell_type": "markdown",
   "metadata": {},
   "source": [
    "<h3> Scalar Multiplication</h3>"
   ]
  },
  {
   "cell_type": "markdown",
   "metadata": {},
   "source": [
    "$\n",
    "\\vec{a} = \\left[\\begin{array}{cc} \n",
    "3\\\\\n",
    "4\n",
    "\\end{array}\\right]\n",
    "$\n",
    "&nbsp;&nbsp;&nbsp;&nbsp;\n",
    "$\n",
    "\\vec{a} * 2 = \n",
    "\\left[\\begin{array}{cc} \n",
    "3 &*& 2\\\\\n",
    "4 &*& 2\n",
    "\\end{array}\\right]\n",
    "$"
   ]
  },
  {
   "cell_type": "code",
   "execution_count": null,
   "metadata": {},
   "outputs": [],
   "source": []
  }
 ],
 "metadata": {
  "kernelspec": {
   "display_name": "Python 3",
   "language": "python",
   "name": "python3"
  },
  "language_info": {
   "codemirror_mode": {
    "name": "ipython",
    "version": 3
   },
   "file_extension": ".py",
   "mimetype": "text/x-python",
   "name": "python",
   "nbconvert_exporter": "python",
   "pygments_lexer": "ipython3",
   "version": "3.5.4"
  }
 },
 "nbformat": 4,
 "nbformat_minor": 1
}
